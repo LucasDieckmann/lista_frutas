{
  "nbformat": 4,
  "nbformat_minor": 0,
  "metadata": {
    "colab": {
      "provenance": []
    },
    "kernelspec": {
      "name": "python3",
      "display_name": "Python 3"
    },
    "language_info": {
      "name": "python"
    }
  },
  "cells": [
    {
      "cell_type": "markdown",
      "source": [],
      "metadata": {
        "id": "ktKaGet8BsU2"
      }
    },
    {
      "cell_type": "markdown",
      "source": [
        "Onde postar:\n",
        "\n",
        "URL: https://encurtador.com.br/eNOPN\n",
        "\n",
        "Nome do arquivo: Seu_Nome.ipynb\n",
        "\n",
        "\n",
        "\n",
        "Enunciado: Cadastro de Itens em uma Lista\n",
        "\n",
        "Você vai criar um programa simples que cadastra nomes de frutas informadas pelo usuário.\n",
        "\n",
        "Objetivo do exercício\n",
        "\n",
        "Praticar os seguintes conceitos de forma isolada e didática:\n",
        "\n",
        "Uso do laço while\n",
        "Condicionais com if e else\n",
        "Armazenamento de dados em lista\n",
        "Validação de entrada (não aceitar strings vazias)\n",
        "Encerramento do loop com uma palavra-chave\n",
        " O que o programa deve fazer:\n",
        "\n",
        "Criar uma lista vazia chamada frutas.\n",
        "Pedir ao usuário para digitar nomes de frutas até que ele digite \"sair\".\n",
        "Se o nome digitado for vazio (\"\"), mostrar a mensagem: \" Nome inválido. Tente novamente.\"\n",
        "Se o nome for válido, adicionar à lista.\n",
        "Ao final, exibir todas as frutas cadastradas."
      ],
      "metadata": {
        "id": "JuLbaVHWBpdK"
      }
    },
    {
      "cell_type": "code",
      "execution_count": 2,
      "metadata": {
        "id": "T5_gdOo7vdYq",
        "colab": {
          "base_uri": "https://localhost:8080/"
        },
        "outputId": "afe6763a-a002-4495-d590-57685411b374"
      },
      "outputs": [
        {
          "output_type": "stream",
          "name": "stdout",
          "text": [
            "Digite o nome de uma fruta ou \"sair\" para fechar o codigo: banana\n",
            "Digite o nome de uma fruta ou \"sair\" para fechar o codigo: maçã\n",
            "Digite o nome de uma fruta ou \"sair\" para fechar o codigo: pera\n",
            "Digite o nome de uma fruta ou \"sair\" para fechar o codigo:  \n",
            "Tente novamente Nome inválido \n",
            "Digite o nome de uma fruta ou \"sair\" para fechar o codigo: sair\n",
            "\n",
            "Frutas cadastradas:\n",
            "- banana\n",
            "- maçã\n",
            "- pera\n"
          ]
        }
      ],
      "source": [
        "\n",
        "# frutas = lista de frutas\n",
        "#fruta recebe o nome da fruta\n",
        "\n",
        "#While True, enquando o codigo não der break ele continua rodando\n",
        "\n",
        "frutas = []\n",
        "\n",
        "while True:\n",
        "    fruta = input('Digite o nome de uma fruta ou \"sair\" para fechar o codigo: ')\n",
        "\n",
        "    if fruta.lower() == \"sair\":\n",
        "        break\n",
        "    if fruta.strip() == \"\":\n",
        "        print('Tente novamente Nome inválido ')\n",
        "    else:\n",
        "        frutas.append(fruta)\n",
        "\n",
        "print(\"\\nFrutas cadastradas:\")\n",
        "for fruta in frutas:\n",
        "    print(f\"- {fruta}\")\n"
      ]
    },
    {
      "cell_type": "markdown",
      "source": [],
      "metadata": {
        "id": "0lPGoA_jwFMm"
      }
    }
  ]
}